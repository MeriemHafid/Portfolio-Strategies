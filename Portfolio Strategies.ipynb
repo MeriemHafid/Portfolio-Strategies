{
 "cells": [
  {
   "attachments": {},
   "cell_type": "markdown",
   "metadata": {},
   "source": [
    "Date : 03.10.2022\n",
    "###### Author : Meriem HAFID                                                                                              "
   ]
  },
  {
   "cell_type": "code",
   "execution_count": 1,
   "metadata": {},
   "outputs": [],
   "source": [
    "import numpy as np\n",
    "from datetime import datetime\n",
    "import pandas as pd\n",
    "import matplotlib.pyplot as plt\n",
    "from tqdm import tqdm\n",
    "from numpy import matmul"
   ]
  },
  {
   "cell_type": "code",
   "execution_count": 2,
   "metadata": {},
   "outputs": [],
   "source": [
    "data = pd.read_excel('https://www.oliviergueant.com/uploads/4/3/0/9/4309511/sbf120_as_of_end_2018.xlsx', sheet_name = 'Data')"
   ]
  },
  {
   "cell_type": "markdown",
   "metadata": {},
   "source": [
    "##### We start by cleaning the data and selecting the right marketcap data."
   ]
  },
  {
   "cell_type": "code",
   "execution_count": 3,
   "metadata": {
    "scrolled": true
   },
   "outputs": [
    {
     "name": "stderr",
     "output_type": "stream",
     "text": [
      "100%|███████████████████████████████████████████████████████████████████████████████| 119/119 [00:00<00:00, 156.56it/s]\n"
     ]
    }
   ],
   "source": [
    "dataframe_list = []\n",
    "for i in range(120):\n",
    "    marketcap_data = data.iloc[:,[3*i,3*i+2]].copy() #we use a list containing the equity (3*i) and the Marketcap (3*i+2)\n",
    "    marketcap_data.dropna(inplace=True)\n",
    "    marketcap_data.iloc[:,0] = pd.to_datetime(marketcap_data.iloc[:,0], unit= 'D', origin= '1899-12-30')\n",
    "    marketcap_data.rename(columns = {marketcap_data.columns[0] : 'Date', marketcap_data.columns[1]: marketcap_data.columns[0]}, inplace = True)\n",
    "    marketcap_data.set_index('Date', inplace = True) #We set the index as date\n",
    "    dataframe_list.append(marketcap_data) \n",
    "\n",
    "agg_marktcap_data = dataframe_list[0]\n",
    "for df in tqdm(dataframe_list[1:]):\n",
    "    agg_marktcap_data = agg_marktcap_data.join(df, how='outer', sort = True)"
   ]
  },
  {
   "cell_type": "markdown",
   "metadata": {},
   "source": [
    "##### Arranging the data from the top stocks of the end of 2018 according to the marketcap"
   ]
  },
  {
   "cell_type": "code",
   "execution_count": 4,
   "metadata": {
    "scrolled": true
   },
   "outputs": [],
   "source": [
    "top_marketcap_data = agg_marktcap_data.sort_values('2018-12-31', axis = 1, ascending = False)"
   ]
  },
  {
   "cell_type": "markdown",
   "metadata": {},
   "source": [
    "##### Taking the 10 top stocks with the highest market apitalization as of end 2018."
   ]
  },
  {
   "cell_type": "code",
   "execution_count": 5,
   "metadata": {},
   "outputs": [
    {
     "data": {
      "text/plain": [
       "['MC FP Equity',\n",
       " 'TTE FP Equity',\n",
       " 'OR FP Equity',\n",
       " 'SAN FP Equity',\n",
       " 'AIR FP Equity',\n",
       " 'KER FP Equity',\n",
       " 'RMS FP Equity',\n",
       " 'BNP FP Equity',\n",
       " 'EL FP Equity',\n",
       " 'AI FP Equity']"
      ]
     },
     "execution_count": 5,
     "metadata": {},
     "output_type": "execute_result"
    }
   ],
   "source": [
    "top10_marketcap_data = top_marketcap_data.iloc[:,0:10]\n",
    "top10_marketcap_data.columns.tolist()"
   ]
  },
  {
   "cell_type": "markdown",
   "metadata": {},
   "source": [
    "##### In this step we select the price data of our top 10 stocks"
   ]
  },
  {
   "cell_type": "code",
   "execution_count": 6,
   "metadata": {
    "scrolled": true
   },
   "outputs": [
    {
     "name": "stderr",
     "output_type": "stream",
     "text": [
      "100%|███████████████████████████████████████████████████████████████████████████████| 120/120 [00:00<00:00, 754.49it/s]\n",
      "100%|███████████████████████████████████████████████████████████████████████████████████| 9/9 [00:00<00:00, 450.83it/s]\n"
     ]
    }
   ],
   "source": [
    "df_list = []\n",
    "for k in tqdm(range(120)):\n",
    "    if (data.iloc[:,[3*k]].columns.tolist()[0] in top10_marketcap_data.columns.tolist()):\n",
    "        #data.iloc[:,[3*k]].columns.tolist()[0] give index of each stock. \n",
    "        #We make sure to take just the 10 top stocks seen before.\n",
    "        price_topdata = data.iloc[:,[3*k,3*k+1]].copy()\n",
    "        price_topdata.dropna(inplace=True)\n",
    "        price_topdata.iloc[:,0] = pd.to_datetime(price_topdata.iloc[:,0], unit= 'D', origin= '1899-12-30')\n",
    "        price_topdata.rename(columns = {price_topdata.columns[0] : 'Date', price_topdata.columns[1]: price_topdata.columns[0]}, inplace = True)\n",
    "        price_topdata.set_index('Date', inplace = True)\n",
    "        df_list.append(price_topdata) \n",
    "\n",
    "agg_price_data = df_list[0]\n",
    "for df in tqdm(df_list[1:]):\n",
    "    agg_price_data = agg_price_data.join(df, how='outer', sort = True)"
   ]
  },
  {
   "cell_type": "code",
   "execution_count": 7,
   "metadata": {},
   "outputs": [
    {
     "name": "stderr",
     "output_type": "stream",
     "text": [
      "100%|█████████████████████████████████████████████████████████████████████████████████| 10/10 [00:00<00:00, 464.07it/s]\n"
     ]
    }
   ],
   "source": [
    "for ticker in tqdm(agg_price_data.columns):\n",
    "    series = agg_price_data[ticker]\n",
    "    first = series.first_valid_index()\n",
    "    last = series.last_valid_index()\n",
    "    series_real = series[(series.index >= first) & (series.index <= last)].fillna(method = 'bfill')\n",
    "    agg_price_data[ticker][(agg_price_data[ticker].index >= first) & (agg_price_data[ticker].index <= last)] = series_real"
   ]
  },
  {
   "cell_type": "markdown",
   "metadata": {},
   "source": [
    "##### Daily returns : "
   ]
  },
  {
   "cell_type": "code",
   "execution_count": 8,
   "metadata": {
    "scrolled": true
   },
   "outputs": [],
   "source": [
    "StockReturns = agg_price_data.pct_change().dropna() \n",
    "#The first date 2010-12-31 does not have a value since it is our cut-off date"
   ]
  },
  {
   "cell_type": "markdown",
   "metadata": {},
   "source": [
    "#### Covariance matrix of 2019 : "
   ]
  },
  {
   "cell_type": "code",
   "execution_count": 9,
   "metadata": {
    "scrolled": true
   },
   "outputs": [
    {
     "data": {
      "text/html": [
       "<div>\n",
       "<style scoped>\n",
       "    .dataframe tbody tr th:only-of-type {\n",
       "        vertical-align: middle;\n",
       "    }\n",
       "\n",
       "    .dataframe tbody tr th {\n",
       "        vertical-align: top;\n",
       "    }\n",
       "\n",
       "    .dataframe thead th {\n",
       "        text-align: right;\n",
       "    }\n",
       "</style>\n",
       "<table border=\"1\" class=\"dataframe\">\n",
       "  <thead>\n",
       "    <tr style=\"text-align: right;\">\n",
       "      <th></th>\n",
       "      <th>OR FP Equity</th>\n",
       "      <th>TTE FP Equity</th>\n",
       "      <th>AI FP Equity</th>\n",
       "      <th>BNP FP Equity</th>\n",
       "      <th>EL FP Equity</th>\n",
       "      <th>MC FP Equity</th>\n",
       "      <th>KER FP Equity</th>\n",
       "      <th>RMS FP Equity</th>\n",
       "      <th>SAN FP Equity</th>\n",
       "      <th>AIR FP Equity</th>\n",
       "    </tr>\n",
       "  </thead>\n",
       "  <tbody>\n",
       "    <tr>\n",
       "      <th>OR FP Equity</th>\n",
       "      <td>0.000135</td>\n",
       "      <td>0.000039</td>\n",
       "      <td>0.000062</td>\n",
       "      <td>0.000023</td>\n",
       "      <td>0.000052</td>\n",
       "      <td>0.000087</td>\n",
       "      <td>0.000072</td>\n",
       "      <td>0.000070</td>\n",
       "      <td>0.000066</td>\n",
       "      <td>0.000065</td>\n",
       "    </tr>\n",
       "    <tr>\n",
       "      <th>TTE FP Equity</th>\n",
       "      <td>0.000039</td>\n",
       "      <td>0.000121</td>\n",
       "      <td>0.000049</td>\n",
       "      <td>0.000087</td>\n",
       "      <td>0.000037</td>\n",
       "      <td>0.000067</td>\n",
       "      <td>0.000082</td>\n",
       "      <td>0.000042</td>\n",
       "      <td>0.000036</td>\n",
       "      <td>0.000061</td>\n",
       "    </tr>\n",
       "    <tr>\n",
       "      <th>AI FP Equity</th>\n",
       "      <td>0.000062</td>\n",
       "      <td>0.000049</td>\n",
       "      <td>0.000102</td>\n",
       "      <td>0.000062</td>\n",
       "      <td>0.000053</td>\n",
       "      <td>0.000085</td>\n",
       "      <td>0.000081</td>\n",
       "      <td>0.000059</td>\n",
       "      <td>0.000049</td>\n",
       "      <td>0.000066</td>\n",
       "    </tr>\n",
       "    <tr>\n",
       "      <th>BNP FP Equity</th>\n",
       "      <td>0.000023</td>\n",
       "      <td>0.000087</td>\n",
       "      <td>0.000062</td>\n",
       "      <td>0.000248</td>\n",
       "      <td>0.000067</td>\n",
       "      <td>0.000099</td>\n",
       "      <td>0.000105</td>\n",
       "      <td>0.000055</td>\n",
       "      <td>0.000034</td>\n",
       "      <td>0.000086</td>\n",
       "    </tr>\n",
       "    <tr>\n",
       "      <th>EL FP Equity</th>\n",
       "      <td>0.000052</td>\n",
       "      <td>0.000037</td>\n",
       "      <td>0.000053</td>\n",
       "      <td>0.000067</td>\n",
       "      <td>0.000181</td>\n",
       "      <td>0.000079</td>\n",
       "      <td>0.000068</td>\n",
       "      <td>0.000064</td>\n",
       "      <td>0.000035</td>\n",
       "      <td>0.000057</td>\n",
       "    </tr>\n",
       "    <tr>\n",
       "      <th>MC FP Equity</th>\n",
       "      <td>0.000087</td>\n",
       "      <td>0.000067</td>\n",
       "      <td>0.000085</td>\n",
       "      <td>0.000099</td>\n",
       "      <td>0.000079</td>\n",
       "      <td>0.000225</td>\n",
       "      <td>0.000170</td>\n",
       "      <td>0.000124</td>\n",
       "      <td>0.000060</td>\n",
       "      <td>0.000123</td>\n",
       "    </tr>\n",
       "    <tr>\n",
       "      <th>KER FP Equity</th>\n",
       "      <td>0.000072</td>\n",
       "      <td>0.000082</td>\n",
       "      <td>0.000081</td>\n",
       "      <td>0.000105</td>\n",
       "      <td>0.000068</td>\n",
       "      <td>0.000170</td>\n",
       "      <td>0.000298</td>\n",
       "      <td>0.000118</td>\n",
       "      <td>0.000056</td>\n",
       "      <td>0.000118</td>\n",
       "    </tr>\n",
       "    <tr>\n",
       "      <th>RMS FP Equity</th>\n",
       "      <td>0.000070</td>\n",
       "      <td>0.000042</td>\n",
       "      <td>0.000059</td>\n",
       "      <td>0.000055</td>\n",
       "      <td>0.000064</td>\n",
       "      <td>0.000124</td>\n",
       "      <td>0.000118</td>\n",
       "      <td>0.000123</td>\n",
       "      <td>0.000049</td>\n",
       "      <td>0.000089</td>\n",
       "    </tr>\n",
       "    <tr>\n",
       "      <th>SAN FP Equity</th>\n",
       "      <td>0.000066</td>\n",
       "      <td>0.000036</td>\n",
       "      <td>0.000049</td>\n",
       "      <td>0.000034</td>\n",
       "      <td>0.000035</td>\n",
       "      <td>0.000060</td>\n",
       "      <td>0.000056</td>\n",
       "      <td>0.000049</td>\n",
       "      <td>0.000149</td>\n",
       "      <td>0.000055</td>\n",
       "    </tr>\n",
       "    <tr>\n",
       "      <th>AIR FP Equity</th>\n",
       "      <td>0.000065</td>\n",
       "      <td>0.000061</td>\n",
       "      <td>0.000066</td>\n",
       "      <td>0.000086</td>\n",
       "      <td>0.000057</td>\n",
       "      <td>0.000123</td>\n",
       "      <td>0.000118</td>\n",
       "      <td>0.000089</td>\n",
       "      <td>0.000055</td>\n",
       "      <td>0.000215</td>\n",
       "    </tr>\n",
       "  </tbody>\n",
       "</table>\n",
       "</div>"
      ],
      "text/plain": [
       "               OR FP Equity  TTE FP Equity  AI FP Equity  BNP FP Equity  \\\n",
       "OR FP Equity       0.000135       0.000039      0.000062       0.000023   \n",
       "TTE FP Equity      0.000039       0.000121      0.000049       0.000087   \n",
       "AI FP Equity       0.000062       0.000049      0.000102       0.000062   \n",
       "BNP FP Equity      0.000023       0.000087      0.000062       0.000248   \n",
       "EL FP Equity       0.000052       0.000037      0.000053       0.000067   \n",
       "MC FP Equity       0.000087       0.000067      0.000085       0.000099   \n",
       "KER FP Equity      0.000072       0.000082      0.000081       0.000105   \n",
       "RMS FP Equity      0.000070       0.000042      0.000059       0.000055   \n",
       "SAN FP Equity      0.000066       0.000036      0.000049       0.000034   \n",
       "AIR FP Equity      0.000065       0.000061      0.000066       0.000086   \n",
       "\n",
       "               EL FP Equity  MC FP Equity  KER FP Equity  RMS FP Equity  \\\n",
       "OR FP Equity       0.000052      0.000087       0.000072       0.000070   \n",
       "TTE FP Equity      0.000037      0.000067       0.000082       0.000042   \n",
       "AI FP Equity       0.000053      0.000085       0.000081       0.000059   \n",
       "BNP FP Equity      0.000067      0.000099       0.000105       0.000055   \n",
       "EL FP Equity       0.000181      0.000079       0.000068       0.000064   \n",
       "MC FP Equity       0.000079      0.000225       0.000170       0.000124   \n",
       "KER FP Equity      0.000068      0.000170       0.000298       0.000118   \n",
       "RMS FP Equity      0.000064      0.000124       0.000118       0.000123   \n",
       "SAN FP Equity      0.000035      0.000060       0.000056       0.000049   \n",
       "AIR FP Equity      0.000057      0.000123       0.000118       0.000089   \n",
       "\n",
       "               SAN FP Equity  AIR FP Equity  \n",
       "OR FP Equity        0.000066       0.000065  \n",
       "TTE FP Equity       0.000036       0.000061  \n",
       "AI FP Equity        0.000049       0.000066  \n",
       "BNP FP Equity       0.000034       0.000086  \n",
       "EL FP Equity        0.000035       0.000057  \n",
       "MC FP Equity        0.000060       0.000123  \n",
       "KER FP Equity       0.000056       0.000118  \n",
       "RMS FP Equity       0.000049       0.000089  \n",
       "SAN FP Equity       0.000149       0.000055  \n",
       "AIR FP Equity       0.000055       0.000215  "
      ]
     },
     "execution_count": 9,
     "metadata": {},
     "output_type": "execute_result"
    }
   ],
   "source": [
    "cov_matrix2019 = StockReturns.loc['2019'].cov()\n",
    "cov_matrix2019"
   ]
  },
  {
   "cell_type": "markdown",
   "metadata": {},
   "source": [
    "#### Covariance matrix of 2017-2018 : "
   ]
  },
  {
   "cell_type": "code",
   "execution_count": 10,
   "metadata": {},
   "outputs": [
    {
     "data": {
      "text/html": [
       "<div>\n",
       "<style scoped>\n",
       "    .dataframe tbody tr th:only-of-type {\n",
       "        vertical-align: middle;\n",
       "    }\n",
       "\n",
       "    .dataframe tbody tr th {\n",
       "        vertical-align: top;\n",
       "    }\n",
       "\n",
       "    .dataframe thead th {\n",
       "        text-align: right;\n",
       "    }\n",
       "</style>\n",
       "<table border=\"1\" class=\"dataframe\">\n",
       "  <thead>\n",
       "    <tr style=\"text-align: right;\">\n",
       "      <th></th>\n",
       "      <th>OR FP Equity</th>\n",
       "      <th>TTE FP Equity</th>\n",
       "      <th>AI FP Equity</th>\n",
       "      <th>BNP FP Equity</th>\n",
       "      <th>EL FP Equity</th>\n",
       "      <th>MC FP Equity</th>\n",
       "      <th>KER FP Equity</th>\n",
       "      <th>RMS FP Equity</th>\n",
       "      <th>SAN FP Equity</th>\n",
       "      <th>AIR FP Equity</th>\n",
       "    </tr>\n",
       "  </thead>\n",
       "  <tbody>\n",
       "    <tr>\n",
       "      <th>OR FP Equity</th>\n",
       "      <td>0.000107</td>\n",
       "      <td>0.000036</td>\n",
       "      <td>0.000053</td>\n",
       "      <td>0.000031</td>\n",
       "      <td>0.000049</td>\n",
       "      <td>0.000082</td>\n",
       "      <td>0.000084</td>\n",
       "      <td>0.000050</td>\n",
       "      <td>0.000045</td>\n",
       "      <td>0.000060</td>\n",
       "    </tr>\n",
       "    <tr>\n",
       "      <th>TTE FP Equity</th>\n",
       "      <td>0.000036</td>\n",
       "      <td>0.000105</td>\n",
       "      <td>0.000051</td>\n",
       "      <td>0.000060</td>\n",
       "      <td>0.000029</td>\n",
       "      <td>0.000061</td>\n",
       "      <td>0.000051</td>\n",
       "      <td>0.000027</td>\n",
       "      <td>0.000036</td>\n",
       "      <td>0.000059</td>\n",
       "    </tr>\n",
       "    <tr>\n",
       "      <th>AI FP Equity</th>\n",
       "      <td>0.000053</td>\n",
       "      <td>0.000051</td>\n",
       "      <td>0.000103</td>\n",
       "      <td>0.000060</td>\n",
       "      <td>0.000044</td>\n",
       "      <td>0.000079</td>\n",
       "      <td>0.000084</td>\n",
       "      <td>0.000039</td>\n",
       "      <td>0.000045</td>\n",
       "      <td>0.000083</td>\n",
       "    </tr>\n",
       "    <tr>\n",
       "      <th>BNP FP Equity</th>\n",
       "      <td>0.000031</td>\n",
       "      <td>0.000060</td>\n",
       "      <td>0.000060</td>\n",
       "      <td>0.000169</td>\n",
       "      <td>0.000033</td>\n",
       "      <td>0.000065</td>\n",
       "      <td>0.000052</td>\n",
       "      <td>0.000025</td>\n",
       "      <td>0.000039</td>\n",
       "      <td>0.000075</td>\n",
       "    </tr>\n",
       "    <tr>\n",
       "      <th>EL FP Equity</th>\n",
       "      <td>0.000049</td>\n",
       "      <td>0.000029</td>\n",
       "      <td>0.000044</td>\n",
       "      <td>0.000033</td>\n",
       "      <td>0.000143</td>\n",
       "      <td>0.000063</td>\n",
       "      <td>0.000059</td>\n",
       "      <td>0.000035</td>\n",
       "      <td>0.000034</td>\n",
       "      <td>0.000056</td>\n",
       "    </tr>\n",
       "    <tr>\n",
       "      <th>MC FP Equity</th>\n",
       "      <td>0.000082</td>\n",
       "      <td>0.000061</td>\n",
       "      <td>0.000079</td>\n",
       "      <td>0.000065</td>\n",
       "      <td>0.000063</td>\n",
       "      <td>0.000187</td>\n",
       "      <td>0.000176</td>\n",
       "      <td>0.000087</td>\n",
       "      <td>0.000043</td>\n",
       "      <td>0.000102</td>\n",
       "    </tr>\n",
       "    <tr>\n",
       "      <th>KER FP Equity</th>\n",
       "      <td>0.000084</td>\n",
       "      <td>0.000051</td>\n",
       "      <td>0.000084</td>\n",
       "      <td>0.000052</td>\n",
       "      <td>0.000059</td>\n",
       "      <td>0.000176</td>\n",
       "      <td>0.000304</td>\n",
       "      <td>0.000101</td>\n",
       "      <td>0.000032</td>\n",
       "      <td>0.000110</td>\n",
       "    </tr>\n",
       "    <tr>\n",
       "      <th>RMS FP Equity</th>\n",
       "      <td>0.000050</td>\n",
       "      <td>0.000027</td>\n",
       "      <td>0.000039</td>\n",
       "      <td>0.000025</td>\n",
       "      <td>0.000035</td>\n",
       "      <td>0.000087</td>\n",
       "      <td>0.000101</td>\n",
       "      <td>0.000107</td>\n",
       "      <td>0.000021</td>\n",
       "      <td>0.000053</td>\n",
       "    </tr>\n",
       "    <tr>\n",
       "      <th>SAN FP Equity</th>\n",
       "      <td>0.000045</td>\n",
       "      <td>0.000036</td>\n",
       "      <td>0.000045</td>\n",
       "      <td>0.000039</td>\n",
       "      <td>0.000034</td>\n",
       "      <td>0.000043</td>\n",
       "      <td>0.000032</td>\n",
       "      <td>0.000021</td>\n",
       "      <td>0.000106</td>\n",
       "      <td>0.000044</td>\n",
       "    </tr>\n",
       "    <tr>\n",
       "      <th>AIR FP Equity</th>\n",
       "      <td>0.000060</td>\n",
       "      <td>0.000059</td>\n",
       "      <td>0.000083</td>\n",
       "      <td>0.000075</td>\n",
       "      <td>0.000056</td>\n",
       "      <td>0.000102</td>\n",
       "      <td>0.000110</td>\n",
       "      <td>0.000053</td>\n",
       "      <td>0.000044</td>\n",
       "      <td>0.000227</td>\n",
       "    </tr>\n",
       "  </tbody>\n",
       "</table>\n",
       "</div>"
      ],
      "text/plain": [
       "               OR FP Equity  TTE FP Equity  AI FP Equity  BNP FP Equity  \\\n",
       "OR FP Equity       0.000107       0.000036      0.000053       0.000031   \n",
       "TTE FP Equity      0.000036       0.000105      0.000051       0.000060   \n",
       "AI FP Equity       0.000053       0.000051      0.000103       0.000060   \n",
       "BNP FP Equity      0.000031       0.000060      0.000060       0.000169   \n",
       "EL FP Equity       0.000049       0.000029      0.000044       0.000033   \n",
       "MC FP Equity       0.000082       0.000061      0.000079       0.000065   \n",
       "KER FP Equity      0.000084       0.000051      0.000084       0.000052   \n",
       "RMS FP Equity      0.000050       0.000027      0.000039       0.000025   \n",
       "SAN FP Equity      0.000045       0.000036      0.000045       0.000039   \n",
       "AIR FP Equity      0.000060       0.000059      0.000083       0.000075   \n",
       "\n",
       "               EL FP Equity  MC FP Equity  KER FP Equity  RMS FP Equity  \\\n",
       "OR FP Equity       0.000049      0.000082       0.000084       0.000050   \n",
       "TTE FP Equity      0.000029      0.000061       0.000051       0.000027   \n",
       "AI FP Equity       0.000044      0.000079       0.000084       0.000039   \n",
       "BNP FP Equity      0.000033      0.000065       0.000052       0.000025   \n",
       "EL FP Equity       0.000143      0.000063       0.000059       0.000035   \n",
       "MC FP Equity       0.000063      0.000187       0.000176       0.000087   \n",
       "KER FP Equity      0.000059      0.000176       0.000304       0.000101   \n",
       "RMS FP Equity      0.000035      0.000087       0.000101       0.000107   \n",
       "SAN FP Equity      0.000034      0.000043       0.000032       0.000021   \n",
       "AIR FP Equity      0.000056      0.000102       0.000110       0.000053   \n",
       "\n",
       "               SAN FP Equity  AIR FP Equity  \n",
       "OR FP Equity        0.000045       0.000060  \n",
       "TTE FP Equity       0.000036       0.000059  \n",
       "AI FP Equity        0.000045       0.000083  \n",
       "BNP FP Equity       0.000039       0.000075  \n",
       "EL FP Equity        0.000034       0.000056  \n",
       "MC FP Equity        0.000043       0.000102  \n",
       "KER FP Equity       0.000032       0.000110  \n",
       "RMS FP Equity       0.000021       0.000053  \n",
       "SAN FP Equity       0.000106       0.000044  \n",
       "AIR FP Equity       0.000044       0.000227  "
      ]
     },
     "execution_count": 10,
     "metadata": {},
     "output_type": "execute_result"
    }
   ],
   "source": [
    "cov_matrix2017_2018 = StockReturns[(StockReturns.index >= '01/01/2017') & (StockReturns.index <= '31/12/2018')].cov()\n",
    "cov_matrix2017_2018"
   ]
  },
  {
   "cell_type": "markdown",
   "metadata": {},
   "source": [
    "#### Mean of daily returns period 2019 :"
   ]
  },
  {
   "cell_type": "code",
   "execution_count": 11,
   "metadata": {},
   "outputs": [],
   "source": [
    "mean_returns = StockReturns.loc['2019'].mean()"
   ]
  },
  {
   "cell_type": "markdown",
   "metadata": {},
   "source": [
    "#### Standard deviation and annualized standard deviation period 2019 : "
   ]
  },
  {
   "cell_type": "code",
   "execution_count": 12,
   "metadata": {
    "scrolled": true
   },
   "outputs": [],
   "source": [
    "sd = StockReturns.loc['2019'].std()\n",
    "sd_annualized = sd*np.sqrt(252)"
   ]
  },
  {
   "cell_type": "code",
   "execution_count": 13,
   "metadata": {},
   "outputs": [
    {
     "data": {
      "text/html": [
       "<div>\n",
       "<style scoped>\n",
       "    .dataframe tbody tr th:only-of-type {\n",
       "        vertical-align: middle;\n",
       "    }\n",
       "\n",
       "    .dataframe tbody tr th {\n",
       "        vertical-align: top;\n",
       "    }\n",
       "\n",
       "    .dataframe thead th {\n",
       "        text-align: right;\n",
       "    }\n",
       "</style>\n",
       "<table border=\"1\" class=\"dataframe\">\n",
       "  <thead>\n",
       "    <tr style=\"text-align: right;\">\n",
       "      <th></th>\n",
       "      <th>Returns</th>\n",
       "      <th>Volatility</th>\n",
       "    </tr>\n",
       "  </thead>\n",
       "  <tbody>\n",
       "    <tr>\n",
       "      <th>OR FP Equity</th>\n",
       "      <td>0.001133</td>\n",
       "      <td>0.184264</td>\n",
       "    </tr>\n",
       "    <tr>\n",
       "      <th>TTE FP Equity</th>\n",
       "      <td>0.000309</td>\n",
       "      <td>0.174748</td>\n",
       "    </tr>\n",
       "    <tr>\n",
       "      <th>AI FP Equity</th>\n",
       "      <td>0.001019</td>\n",
       "      <td>0.160018</td>\n",
       "    </tr>\n",
       "    <tr>\n",
       "      <th>BNP FP Equity</th>\n",
       "      <td>0.001267</td>\n",
       "      <td>0.249979</td>\n",
       "    </tr>\n",
       "    <tr>\n",
       "      <th>EL FP Equity</th>\n",
       "      <td>0.000901</td>\n",
       "      <td>0.213497</td>\n",
       "    </tr>\n",
       "    <tr>\n",
       "      <th>MC FP Equity</th>\n",
       "      <td>0.001967</td>\n",
       "      <td>0.238108</td>\n",
       "    </tr>\n",
       "    <tr>\n",
       "      <th>KER FP Equity</th>\n",
       "      <td>0.001529</td>\n",
       "      <td>0.274114</td>\n",
       "    </tr>\n",
       "    <tr>\n",
       "      <th>RMS FP Equity</th>\n",
       "      <td>0.001309</td>\n",
       "      <td>0.176215</td>\n",
       "    </tr>\n",
       "    <tr>\n",
       "      <th>SAN FP Equity</th>\n",
       "      <td>0.000738</td>\n",
       "      <td>0.193872</td>\n",
       "    </tr>\n",
       "    <tr>\n",
       "      <th>AIR FP Equity</th>\n",
       "      <td>0.001838</td>\n",
       "      <td>0.232914</td>\n",
       "    </tr>\n",
       "  </tbody>\n",
       "</table>\n",
       "</div>"
      ],
      "text/plain": [
       "                Returns  Volatility\n",
       "OR FP Equity   0.001133    0.184264\n",
       "TTE FP Equity  0.000309    0.174748\n",
       "AI FP Equity   0.001019    0.160018\n",
       "BNP FP Equity  0.001267    0.249979\n",
       "EL FP Equity   0.000901    0.213497\n",
       "MC FP Equity   0.001967    0.238108\n",
       "KER FP Equity  0.001529    0.274114\n",
       "RMS FP Equity  0.001309    0.176215\n",
       "SAN FP Equity  0.000738    0.193872\n",
       "AIR FP Equity  0.001838    0.232914"
      ]
     },
     "execution_count": 13,
     "metadata": {},
     "output_type": "execute_result"
    }
   ],
   "source": [
    "Stocks = pd.concat([mean_returns, sd_annualized], axis=1)\n",
    "Stocks.columns = ['Returns', 'Volatility']\n",
    "Stocks"
   ]
  },
  {
   "cell_type": "markdown",
   "metadata": {},
   "source": [
    "### Equally Weighted Portfolio"
   ]
  },
  {
   "cell_type": "markdown",
   "metadata": {},
   "source": [
    "##### We will construct a portfolio with equal weights for all of those 10 top companies of the end of 2018 means that we will invist 10% in each stock."
   ]
  },
  {
   "cell_type": "code",
   "execution_count": 14,
   "metadata": {
    "scrolled": true
   },
   "outputs": [
    {
     "data": {
      "text/plain": [
       "array([0.1, 0.1, 0.1, 0.1, 0.1, 0.1, 0.1, 0.1, 0.1, 0.1])"
      ]
     },
     "execution_count": 14,
     "metadata": {},
     "output_type": "execute_result"
    }
   ],
   "source": [
    "Portfolio_EW_weights = np.repeat(1/10, 10) \n",
    "Portfolio_EW_weights"
   ]
  },
  {
   "cell_type": "markdown",
   "metadata": {},
   "source": [
    "#### Equally wieghted portfolio returns, variance and standard deviation:"
   ]
  },
  {
   "cell_type": "code",
   "execution_count": 15,
   "metadata": {
    "scrolled": true
   },
   "outputs": [],
   "source": [
    "Portfolio_EW_returns = (StockReturns.loc['2019'] * Portfolio_EW_weights).sum(axis=1) #returns\n",
    "Portfolio_EW_return = (np.sum(mean_returns * Portfolio_EW_weights)) * 252     #annualized returns\n",
    "Portfolio_EW_var = np.dot(Portfolio_EW_weights.T,np.dot(cov_matrix2019,Portfolio_EW_weights)) #variance\n",
    "Portfolio_EW_sd = np.sqrt(Portfolio_EW_var) #standard deviation"
   ]
  },
  {
   "cell_type": "code",
   "execution_count": 16,
   "metadata": {},
   "outputs": [
    {
     "data": {
      "text/html": [
       "<div>\n",
       "<style scoped>\n",
       "    .dataframe tbody tr th:only-of-type {\n",
       "        vertical-align: middle;\n",
       "    }\n",
       "\n",
       "    .dataframe tbody tr th {\n",
       "        vertical-align: top;\n",
       "    }\n",
       "\n",
       "    .dataframe thead th {\n",
       "        text-align: right;\n",
       "    }\n",
       "</style>\n",
       "<table border=\"1\" class=\"dataframe\">\n",
       "  <thead>\n",
       "    <tr style=\"text-align: right;\">\n",
       "      <th></th>\n",
       "      <th>Returns</th>\n",
       "      <th>standard deviation</th>\n",
       "      <th>MC FP Equity weight</th>\n",
       "      <th>TTE FP Equity weight</th>\n",
       "      <th>OR FP Equity weight</th>\n",
       "      <th>SAN FP Equity weight</th>\n",
       "      <th>AIR FP Equity weight</th>\n",
       "      <th>KER FP Equity weight</th>\n",
       "      <th>RMS FP Equity weight</th>\n",
       "      <th>BNP FP Equity weight</th>\n",
       "      <th>EL FP Equity weight</th>\n",
       "      <th>AI FP Equity weight</th>\n",
       "    </tr>\n",
       "  </thead>\n",
       "  <tbody>\n",
       "    <tr>\n",
       "      <th>0</th>\n",
       "      <td>0.302655</td>\n",
       "      <td>0.009014</td>\n",
       "      <td>0.1</td>\n",
       "      <td>0.1</td>\n",
       "      <td>0.1</td>\n",
       "      <td>0.1</td>\n",
       "      <td>0.1</td>\n",
       "      <td>0.1</td>\n",
       "      <td>0.1</td>\n",
       "      <td>0.1</td>\n",
       "      <td>0.1</td>\n",
       "      <td>0.1</td>\n",
       "    </tr>\n",
       "  </tbody>\n",
       "</table>\n",
       "</div>"
      ],
      "text/plain": [
       "    Returns  standard deviation  MC FP Equity weight  TTE FP Equity weight  \\\n",
       "0  0.302655            0.009014                  0.1                   0.1   \n",
       "\n",
       "   OR FP Equity weight  SAN FP Equity weight  AIR FP Equity weight  \\\n",
       "0                  0.1                   0.1                   0.1   \n",
       "\n",
       "   KER FP Equity weight  RMS FP Equity weight  BNP FP Equity weight  \\\n",
       "0                   0.1                   0.1                   0.1   \n",
       "\n",
       "   EL FP Equity weight  AI FP Equity weight  \n",
       "0                  0.1                  0.1  "
      ]
     },
     "execution_count": 16,
     "metadata": {},
     "output_type": "execute_result"
    }
   ],
   "source": [
    "data1 = {'Returns':[Portfolio_EW_return], 'standard deviation':[Portfolio_EW_sd]}\n",
    "for counter, symbol in enumerate(top10_marketcap_data.columns.tolist()):\n",
    "   data1[symbol+' weight'] = [w[counter] for w in [Portfolio_EW_weights]]\n",
    "portfolio = pd.DataFrame(data1)\n",
    "portfolio"
   ]
  },
  {
   "cell_type": "markdown",
   "metadata": {},
   "source": [
    "### Markowitz minimum-variance Portfolio"
   ]
  },
  {
   "cell_type": "markdown",
   "metadata": {},
   "source": [
    "##### In this part we are doing a simulation of 5000 random portfolios to design the efficient frontier, the loop considers different weights for assets and calculates the return and volatility of that particular portfolio combination."
   ]
  },
  {
   "cell_type": "code",
   "execution_count": 17,
   "metadata": {},
   "outputs": [],
   "source": [
    "Portfolio_MV_return = [] # Define an empty array for portfolio returns\n",
    "Portfolio_MV_sd = [] # Define an empty array for portfolio volatility\n",
    "Portfolio_MV_weights = [] # Define an empty array for asset weights\n",
    "\n",
    "for portfolio in range(5000):\n",
    "    weights = np.random.random(10)\n",
    "    weights = weights/np.sum(weights)# Normalize to unity because the sum of weights must be 1\n",
    "    Portfolio_MV_weights.append(weights)\n",
    "    returns = (np.sum(mean_returns * weights)) * 252 #annualized returns\n",
    "    Portfolio_MV_return.append(returns)\n",
    "    ann_sd = np.sqrt(np.transpose(weights) @ (cov_matrix2017_2018 * 252) @ weights) # Annual standard deviation = volatility\n",
    "    Portfolio_MV_sd.append(ann_sd)"
   ]
  },
  {
   "cell_type": "code",
   "execution_count": 18,
   "metadata": {},
   "outputs": [],
   "source": [
    "data2 = {'Returns':Portfolio_MV_return, 'Volatility':Portfolio_MV_sd}\n",
    "for counter, symbol in enumerate(top10_marketcap_data.columns.tolist()):\n",
    "    data2[symbol+' weight'] = [w[counter] for w in Portfolio_MV_weights]"
   ]
  },
  {
   "cell_type": "code",
   "execution_count": 19,
   "metadata": {},
   "outputs": [
    {
     "data": {
      "text/html": [
       "<div>\n",
       "<style scoped>\n",
       "    .dataframe tbody tr th:only-of-type {\n",
       "        vertical-align: middle;\n",
       "    }\n",
       "\n",
       "    .dataframe tbody tr th {\n",
       "        vertical-align: top;\n",
       "    }\n",
       "\n",
       "    .dataframe thead th {\n",
       "        text-align: right;\n",
       "    }\n",
       "</style>\n",
       "<table border=\"1\" class=\"dataframe\">\n",
       "  <thead>\n",
       "    <tr style=\"text-align: right;\">\n",
       "      <th></th>\n",
       "      <th>Returns</th>\n",
       "      <th>Volatility</th>\n",
       "      <th>MC FP Equity weight</th>\n",
       "      <th>TTE FP Equity weight</th>\n",
       "      <th>OR FP Equity weight</th>\n",
       "      <th>SAN FP Equity weight</th>\n",
       "      <th>AIR FP Equity weight</th>\n",
       "      <th>KER FP Equity weight</th>\n",
       "      <th>RMS FP Equity weight</th>\n",
       "      <th>BNP FP Equity weight</th>\n",
       "      <th>EL FP Equity weight</th>\n",
       "      <th>AI FP Equity weight</th>\n",
       "    </tr>\n",
       "  </thead>\n",
       "  <tbody>\n",
       "    <tr>\n",
       "      <th>0</th>\n",
       "      <td>0.280151</td>\n",
       "      <td>0.132029</td>\n",
       "      <td>0.058640</td>\n",
       "      <td>0.142222</td>\n",
       "      <td>0.106853</td>\n",
       "      <td>0.056485</td>\n",
       "      <td>0.136434</td>\n",
       "      <td>0.166576</td>\n",
       "      <td>0.120379</td>\n",
       "      <td>0.029610</td>\n",
       "      <td>0.171477</td>\n",
       "      <td>0.011324</td>\n",
       "    </tr>\n",
       "    <tr>\n",
       "      <th>1</th>\n",
       "      <td>0.311189</td>\n",
       "      <td>0.130431</td>\n",
       "      <td>0.065348</td>\n",
       "      <td>0.030689</td>\n",
       "      <td>0.121380</td>\n",
       "      <td>0.149439</td>\n",
       "      <td>0.110103</td>\n",
       "      <td>0.135146</td>\n",
       "      <td>0.094554</td>\n",
       "      <td>0.124078</td>\n",
       "      <td>0.131697</td>\n",
       "      <td>0.037566</td>\n",
       "    </tr>\n",
       "    <tr>\n",
       "      <th>2</th>\n",
       "      <td>0.311687</td>\n",
       "      <td>0.142475</td>\n",
       "      <td>0.038587</td>\n",
       "      <td>0.159947</td>\n",
       "      <td>0.036654</td>\n",
       "      <td>0.071243</td>\n",
       "      <td>0.019925</td>\n",
       "      <td>0.181243</td>\n",
       "      <td>0.167460</td>\n",
       "      <td>0.057236</td>\n",
       "      <td>0.164918</td>\n",
       "      <td>0.102786</td>\n",
       "    </tr>\n",
       "    <tr>\n",
       "      <th>3</th>\n",
       "      <td>0.296647</td>\n",
       "      <td>0.125449</td>\n",
       "      <td>0.161033</td>\n",
       "      <td>0.034681</td>\n",
       "      <td>0.024219</td>\n",
       "      <td>0.098447</td>\n",
       "      <td>0.230650</td>\n",
       "      <td>0.053148</td>\n",
       "      <td>0.057425</td>\n",
       "      <td>0.143651</td>\n",
       "      <td>0.104714</td>\n",
       "      <td>0.092032</td>\n",
       "    </tr>\n",
       "    <tr>\n",
       "      <th>4</th>\n",
       "      <td>0.298189</td>\n",
       "      <td>0.127097</td>\n",
       "      <td>0.056222</td>\n",
       "      <td>0.090338</td>\n",
       "      <td>0.137884</td>\n",
       "      <td>0.126542</td>\n",
       "      <td>0.120396</td>\n",
       "      <td>0.086818</td>\n",
       "      <td>0.068230</td>\n",
       "      <td>0.138286</td>\n",
       "      <td>0.087233</td>\n",
       "      <td>0.088051</td>\n",
       "    </tr>\n",
       "  </tbody>\n",
       "</table>\n",
       "</div>"
      ],
      "text/plain": [
       "    Returns  Volatility  MC FP Equity weight  TTE FP Equity weight  \\\n",
       "0  0.280151    0.132029             0.058640              0.142222   \n",
       "1  0.311189    0.130431             0.065348              0.030689   \n",
       "2  0.311687    0.142475             0.038587              0.159947   \n",
       "3  0.296647    0.125449             0.161033              0.034681   \n",
       "4  0.298189    0.127097             0.056222              0.090338   \n",
       "\n",
       "   OR FP Equity weight  SAN FP Equity weight  AIR FP Equity weight  \\\n",
       "0             0.106853              0.056485              0.136434   \n",
       "1             0.121380              0.149439              0.110103   \n",
       "2             0.036654              0.071243              0.019925   \n",
       "3             0.024219              0.098447              0.230650   \n",
       "4             0.137884              0.126542              0.120396   \n",
       "\n",
       "   KER FP Equity weight  RMS FP Equity weight  BNP FP Equity weight  \\\n",
       "0              0.166576              0.120379              0.029610   \n",
       "1              0.135146              0.094554              0.124078   \n",
       "2              0.181243              0.167460              0.057236   \n",
       "3              0.053148              0.057425              0.143651   \n",
       "4              0.086818              0.068230              0.138286   \n",
       "\n",
       "   EL FP Equity weight  AI FP Equity weight  \n",
       "0             0.171477             0.011324  \n",
       "1             0.131697             0.037566  \n",
       "2             0.164918             0.102786  \n",
       "3             0.104714             0.092032  \n",
       "4             0.087233             0.088051  "
      ]
     },
     "execution_count": 19,
     "metadata": {},
     "output_type": "execute_result"
    }
   ],
   "source": [
    "portfolios = pd.DataFrame(data2)\n",
    "portfolios.head()"
   ]
  },
  {
   "cell_type": "code",
   "execution_count": 20,
   "metadata": {},
   "outputs": [
    {
     "data": {
      "text/html": [
       "<div>\n",
       "<style scoped>\n",
       "    .dataframe tbody tr th:only-of-type {\n",
       "        vertical-align: middle;\n",
       "    }\n",
       "\n",
       "    .dataframe tbody tr th {\n",
       "        vertical-align: top;\n",
       "    }\n",
       "\n",
       "    .dataframe thead th {\n",
       "        text-align: right;\n",
       "    }\n",
       "</style>\n",
       "<table border=\"1\" class=\"dataframe\">\n",
       "  <thead>\n",
       "    <tr style=\"text-align: right;\">\n",
       "      <th></th>\n",
       "      <th>Returns</th>\n",
       "      <th>Volatility</th>\n",
       "      <th>MC FP Equity weight</th>\n",
       "      <th>TTE FP Equity weight</th>\n",
       "      <th>OR FP Equity weight</th>\n",
       "      <th>SAN FP Equity weight</th>\n",
       "      <th>AIR FP Equity weight</th>\n",
       "      <th>KER FP Equity weight</th>\n",
       "      <th>RMS FP Equity weight</th>\n",
       "      <th>BNP FP Equity weight</th>\n",
       "      <th>EL FP Equity weight</th>\n",
       "      <th>AI FP Equity weight</th>\n",
       "    </tr>\n",
       "  </thead>\n",
       "  <tbody>\n",
       "    <tr>\n",
       "      <th>2415</th>\n",
       "      <td>0.23875</td>\n",
       "      <td>0.114703</td>\n",
       "      <td>0.127617</td>\n",
       "      <td>0.139756</td>\n",
       "      <td>0.058311</td>\n",
       "      <td>0.0989</td>\n",
       "      <td>0.138695</td>\n",
       "      <td>0.001994</td>\n",
       "      <td>0.03438</td>\n",
       "      <td>0.123398</td>\n",
       "      <td>0.251943</td>\n",
       "      <td>0.025005</td>\n",
       "    </tr>\n",
       "  </tbody>\n",
       "</table>\n",
       "</div>"
      ],
      "text/plain": [
       "      Returns  Volatility  MC FP Equity weight  TTE FP Equity weight  \\\n",
       "2415  0.23875    0.114703             0.127617              0.139756   \n",
       "\n",
       "      OR FP Equity weight  SAN FP Equity weight  AIR FP Equity weight  \\\n",
       "2415             0.058311                0.0989              0.138695   \n",
       "\n",
       "      KER FP Equity weight  RMS FP Equity weight  BNP FP Equity weight  \\\n",
       "2415              0.001994               0.03438              0.123398   \n",
       "\n",
       "      EL FP Equity weight  AI FP Equity weight  \n",
       "2415             0.251943             0.025005  "
      ]
     },
     "execution_count": 20,
     "metadata": {},
     "output_type": "execute_result"
    }
   ],
   "source": [
    "portfolios[portfolios['Volatility']==portfolios['Volatility'].min()]"
   ]
  },
  {
   "cell_type": "code",
   "execution_count": 21,
   "metadata": {},
   "outputs": [
    {
     "data": {
      "text/plain": [
       "<matplotlib.collections.PathCollection at 0x2075a396190>"
      ]
     },
     "execution_count": 21,
     "metadata": {},
     "output_type": "execute_result"
    },
    {
     "data": {
      "image/png": "[encoded data removed]",
      "text/plain": [
       "<Figure size 1440x720 with 1 Axes>"
      ]
     },
     "metadata": {
      "needs_background": "light"
     },
     "output_type": "display_data"
    }
   ],
   "source": [
    "MV_portfolio = portfolios.iloc[portfolios['Volatility'].idxmin()]# idxmin() gives us the minimum value in the column specified.                               \n",
    "plt.subplots(figsize=(20,10))\n",
    "plt.scatter(portfolios['Volatility'], portfolios['Returns'])\n",
    "plt.scatter(MV_portfolio[1], MV_portfolio[0], color='red')"
   ]
  },
  {
   "cell_type": "markdown",
   "metadata": {},
   "source": [
    "##### Retruns of the MV portfolio :"
   ]
  },
  {
   "cell_type": "code",
   "execution_count": 22,
   "metadata": {},
   "outputs": [],
   "source": [
    "Portfolio_MV_returns = (StockReturns.loc['2019']*(MV_portfolio[2:].values)).sum(axis=1)"
   ]
  },
  {
   "cell_type": "markdown",
   "metadata": {},
   "source": [
    "### Equal Risk Contribution Portfolio : "
   ]
  },
  {
   "cell_type": "markdown",
   "metadata": {},
   "source": [
    "##### To compute this portfolio we use the Jacobi power algorthm written in the book “Introduction to risk parity and budgeting” by T. Roncalli (page 62-63) "
   ]
  },
  {
   "cell_type": "code",
   "execution_count": 23,
   "metadata": {},
   "outputs": [],
   "source": [
    "Portfolio_ERC_return = [] # Define an empty array for portfolio returns\n",
    "Portfolio_ERC_sd = [] # Define an empty array for portfolio volatility\n",
    "Portfolio_ERC_weights = [] # Define an empty array for asset weights\n",
    "\n",
    "weights2= np.full((10, 1), 0.1, dtype=float) #The weights of the initial portfolio \n",
    "\n",
    "old_weights2 = np.full((10, 1), 0, dtype=float)\n",
    "#An object who will kept the weight of the last itaration in order to\n",
    "#compare x_k (x) and x_(k-1) at the iteration 1 (old_x) and decide when we stop the algorithm\n",
    "\n",
    "\n",
    "while (max(abs(old_weights2-weights2)) >=  1.0e-06): #we stop the algorithme with the stopping criteria given in the book(end of page 63)\n",
    "    beta_inv = matmul(cov_matrix2017_2018.values,weights2)**(-1)*matmul(weights2.T,matmul(cov_matrix2017_2018.values,weights2))\n",
    "    #computation of the numerator of the formula \n",
    "    old_weights2, weights2  = weights2, beta_inv/float(matmul(np.full((1, 10),1,dtype=float),beta_inv)) \n",
    "    #assignation of the new values old_weights2\n",
    "    \n",
    "    #construction of portfolio and computation of returns \n",
    "    Portfolio_ERC_weights.append(weights2.T[0])\n",
    "    returns = (np.sum(mean_returns * (weights2.T[0]))) * 252 #annualized returns\n",
    "    Portfolio_ERC_return.append(returns)\n",
    "    ann_sd2 = np.sqrt(np.transpose(weights2.T[0]) @ (cov_matrix2017_2018 * 252) @ weights2.T[0]) #annualized standard deviation\n",
    "    Portfolio_ERC_sd.append(ann_sd2)"
   ]
  },
  {
   "cell_type": "code",
   "execution_count": 24,
   "metadata": {},
   "outputs": [],
   "source": [
    "data3 = {'Returns':Portfolio_ERC_return, 'Volatility':Portfolio_ERC_sd}\n",
    "for counter, symbol in enumerate(top10_marketcap_data.columns.tolist()):\n",
    "    data3[symbol+' weight'] = [w[counter] for w in Portfolio_ERC_weights]"
   ]
  },
  {
   "cell_type": "code",
   "execution_count": 25,
   "metadata": {},
   "outputs": [
    {
     "data": {
      "text/html": [
       "<div>\n",
       "<style scoped>\n",
       "    .dataframe tbody tr th:only-of-type {\n",
       "        vertical-align: middle;\n",
       "    }\n",
       "\n",
       "    .dataframe tbody tr th {\n",
       "        vertical-align: top;\n",
       "    }\n",
       "\n",
       "    .dataframe thead th {\n",
       "        text-align: right;\n",
       "    }\n",
       "</style>\n",
       "<table border=\"1\" class=\"dataframe\">\n",
       "  <thead>\n",
       "    <tr style=\"text-align: right;\">\n",
       "      <th></th>\n",
       "      <th>Returns</th>\n",
       "      <th>Volatility</th>\n",
       "      <th>MC FP Equity weight</th>\n",
       "      <th>TTE FP Equity weight</th>\n",
       "      <th>OR FP Equity weight</th>\n",
       "      <th>SAN FP Equity weight</th>\n",
       "      <th>AIR FP Equity weight</th>\n",
       "      <th>KER FP Equity weight</th>\n",
       "      <th>RMS FP Equity weight</th>\n",
       "      <th>BNP FP Equity weight</th>\n",
       "      <th>EL FP Equity weight</th>\n",
       "      <th>AI FP Equity weight</th>\n",
       "    </tr>\n",
       "  </thead>\n",
       "  <tbody>\n",
       "    <tr>\n",
       "      <th>0</th>\n",
       "      <td>0.277953</td>\n",
       "      <td>0.122314</td>\n",
       "      <td>0.105604</td>\n",
       "      <td>0.122066</td>\n",
       "      <td>0.098373</td>\n",
       "      <td>0.103238</td>\n",
       "      <td>0.115415</td>\n",
       "      <td>0.066555</td>\n",
       "      <td>0.059682</td>\n",
       "      <td>0.115324</td>\n",
       "      <td>0.141293</td>\n",
       "      <td>0.072451</td>\n",
       "    </tr>\n",
       "    <tr>\n",
       "      <th>1</th>\n",
       "      <td>0.282901</td>\n",
       "      <td>0.123595</td>\n",
       "      <td>0.106022</td>\n",
       "      <td>0.118094</td>\n",
       "      <td>0.099690</td>\n",
       "      <td>0.101624</td>\n",
       "      <td>0.111960</td>\n",
       "      <td>0.071139</td>\n",
       "      <td>0.066896</td>\n",
       "      <td>0.119834</td>\n",
       "      <td>0.127833</td>\n",
       "      <td>0.076908</td>\n",
       "    </tr>\n",
       "    <tr>\n",
       "      <th>2</th>\n",
       "      <td>0.281680</td>\n",
       "      <td>0.123297</td>\n",
       "      <td>0.105760</td>\n",
       "      <td>0.119052</td>\n",
       "      <td>0.099504</td>\n",
       "      <td>0.102360</td>\n",
       "      <td>0.112735</td>\n",
       "      <td>0.070103</td>\n",
       "      <td>0.065158</td>\n",
       "      <td>0.117647</td>\n",
       "      <td>0.131589</td>\n",
       "      <td>0.076091</td>\n",
       "    </tr>\n",
       "    <tr>\n",
       "      <th>3</th>\n",
       "      <td>0.282004</td>\n",
       "      <td>0.123371</td>\n",
       "      <td>0.105872</td>\n",
       "      <td>0.118783</td>\n",
       "      <td>0.099522</td>\n",
       "      <td>0.102076</td>\n",
       "      <td>0.112578</td>\n",
       "      <td>0.070379</td>\n",
       "      <td>0.065612</td>\n",
       "      <td>0.118383</td>\n",
       "      <td>0.130544</td>\n",
       "      <td>0.076251</td>\n",
       "    </tr>\n",
       "    <tr>\n",
       "      <th>4</th>\n",
       "      <td>0.281914</td>\n",
       "      <td>0.123351</td>\n",
       "      <td>0.105832</td>\n",
       "      <td>0.118866</td>\n",
       "      <td>0.099524</td>\n",
       "      <td>0.102178</td>\n",
       "      <td>0.112606</td>\n",
       "      <td>0.070302</td>\n",
       "      <td>0.065485</td>\n",
       "      <td>0.118155</td>\n",
       "      <td>0.130834</td>\n",
       "      <td>0.076218</td>\n",
       "    </tr>\n",
       "    <tr>\n",
       "      <th>5</th>\n",
       "      <td>0.281939</td>\n",
       "      <td>0.123357</td>\n",
       "      <td>0.105845</td>\n",
       "      <td>0.118840</td>\n",
       "      <td>0.099522</td>\n",
       "      <td>0.102143</td>\n",
       "      <td>0.112603</td>\n",
       "      <td>0.070324</td>\n",
       "      <td>0.065521</td>\n",
       "      <td>0.118224</td>\n",
       "      <td>0.130753</td>\n",
       "      <td>0.076225</td>\n",
       "    </tr>\n",
       "    <tr>\n",
       "      <th>6</th>\n",
       "      <td>0.281932</td>\n",
       "      <td>0.123355</td>\n",
       "      <td>0.105841</td>\n",
       "      <td>0.118848</td>\n",
       "      <td>0.099523</td>\n",
       "      <td>0.102155</td>\n",
       "      <td>0.112603</td>\n",
       "      <td>0.070317</td>\n",
       "      <td>0.065511</td>\n",
       "      <td>0.118203</td>\n",
       "      <td>0.130776</td>\n",
       "      <td>0.076223</td>\n",
       "    </tr>\n",
       "    <tr>\n",
       "      <th>7</th>\n",
       "      <td>0.281934</td>\n",
       "      <td>0.123356</td>\n",
       "      <td>0.105842</td>\n",
       "      <td>0.118845</td>\n",
       "      <td>0.099523</td>\n",
       "      <td>0.102151</td>\n",
       "      <td>0.112603</td>\n",
       "      <td>0.070319</td>\n",
       "      <td>0.065514</td>\n",
       "      <td>0.118209</td>\n",
       "      <td>0.130769</td>\n",
       "      <td>0.076224</td>\n",
       "    </tr>\n",
       "    <tr>\n",
       "      <th>8</th>\n",
       "      <td>0.281934</td>\n",
       "      <td>0.123355</td>\n",
       "      <td>0.105842</td>\n",
       "      <td>0.118846</td>\n",
       "      <td>0.099523</td>\n",
       "      <td>0.102152</td>\n",
       "      <td>0.112603</td>\n",
       "      <td>0.070319</td>\n",
       "      <td>0.065513</td>\n",
       "      <td>0.118208</td>\n",
       "      <td>0.130771</td>\n",
       "      <td>0.076224</td>\n",
       "    </tr>\n",
       "    <tr>\n",
       "      <th>9</th>\n",
       "      <td>0.281934</td>\n",
       "      <td>0.123355</td>\n",
       "      <td>0.105842</td>\n",
       "      <td>0.118846</td>\n",
       "      <td>0.099523</td>\n",
       "      <td>0.102152</td>\n",
       "      <td>0.112603</td>\n",
       "      <td>0.070319</td>\n",
       "      <td>0.065513</td>\n",
       "      <td>0.118208</td>\n",
       "      <td>0.130771</td>\n",
       "      <td>0.076224</td>\n",
       "    </tr>\n",
       "  </tbody>\n",
       "</table>\n",
       "</div>"
      ],
      "text/plain": [
       "    Returns  Volatility  MC FP Equity weight  TTE FP Equity weight  \\\n",
       "0  0.277953    0.122314             0.105604              0.122066   \n",
       "1  0.282901    0.123595             0.106022              0.118094   \n",
       "2  0.281680    0.123297             0.105760              0.119052   \n",
       "3  0.282004    0.123371             0.105872              0.118783   \n",
       "4  0.281914    0.123351             0.105832              0.118866   \n",
       "5  0.281939    0.123357             0.105845              0.118840   \n",
       "6  0.281932    0.123355             0.105841              0.118848   \n",
       "7  0.281934    0.123356             0.105842              0.118845   \n",
       "8  0.281934    0.123355             0.105842              0.118846   \n",
       "9  0.281934    0.123355             0.105842              0.118846   \n",
       "\n",
       "   OR FP Equity weight  SAN FP Equity weight  AIR FP Equity weight  \\\n",
       "0             0.098373              0.103238              0.115415   \n",
       "1             0.099690              0.101624              0.111960   \n",
       "2             0.099504              0.102360              0.112735   \n",
       "3             0.099522              0.102076              0.112578   \n",
       "4             0.099524              0.102178              0.112606   \n",
       "5             0.099522              0.102143              0.112603   \n",
       "6             0.099523              0.102155              0.112603   \n",
       "7             0.099523              0.102151              0.112603   \n",
       "8             0.099523              0.102152              0.112603   \n",
       "9             0.099523              0.102152              0.112603   \n",
       "\n",
       "   KER FP Equity weight  RMS FP Equity weight  BNP FP Equity weight  \\\n",
       "0              0.066555              0.059682              0.115324   \n",
       "1              0.071139              0.066896              0.119834   \n",
       "2              0.070103              0.065158              0.117647   \n",
       "3              0.070379              0.065612              0.118383   \n",
       "4              0.070302              0.065485              0.118155   \n",
       "5              0.070324              0.065521              0.118224   \n",
       "6              0.070317              0.065511              0.118203   \n",
       "7              0.070319              0.065514              0.118209   \n",
       "8              0.070319              0.065513              0.118208   \n",
       "9              0.070319              0.065513              0.118208   \n",
       "\n",
       "   EL FP Equity weight  AI FP Equity weight  \n",
       "0             0.141293             0.072451  \n",
       "1             0.127833             0.076908  \n",
       "2             0.131589             0.076091  \n",
       "3             0.130544             0.076251  \n",
       "4             0.130834             0.076218  \n",
       "5             0.130753             0.076225  \n",
       "6             0.130776             0.076223  \n",
       "7             0.130769             0.076224  \n",
       "8             0.130771             0.076224  \n",
       "9             0.130771             0.076224  "
      ]
     },
     "execution_count": 25,
     "metadata": {},
     "output_type": "execute_result"
    }
   ],
   "source": [
    "#We show the portfolios of each iteration and see the convergence\n",
    "portfolios2 = pd.DataFrame(data3)\n",
    "portfolios2"
   ]
  },
  {
   "cell_type": "code",
   "execution_count": 26,
   "metadata": {
    "scrolled": true
   },
   "outputs": [
    {
     "data": {
      "text/html": [
       "<div>\n",
       "<style scoped>\n",
       "    .dataframe tbody tr th:only-of-type {\n",
       "        vertical-align: middle;\n",
       "    }\n",
       "\n",
       "    .dataframe tbody tr th {\n",
       "        vertical-align: top;\n",
       "    }\n",
       "\n",
       "    .dataframe thead th {\n",
       "        text-align: right;\n",
       "    }\n",
       "</style>\n",
       "<table border=\"1\" class=\"dataframe\">\n",
       "  <thead>\n",
       "    <tr style=\"text-align: right;\">\n",
       "      <th></th>\n",
       "      <th>Returns</th>\n",
       "      <th>Volatility</th>\n",
       "      <th>MC FP Equity weight</th>\n",
       "      <th>TTE FP Equity weight</th>\n",
       "      <th>OR FP Equity weight</th>\n",
       "      <th>SAN FP Equity weight</th>\n",
       "      <th>AIR FP Equity weight</th>\n",
       "      <th>KER FP Equity weight</th>\n",
       "      <th>RMS FP Equity weight</th>\n",
       "      <th>BNP FP Equity weight</th>\n",
       "      <th>EL FP Equity weight</th>\n",
       "      <th>AI FP Equity weight</th>\n",
       "    </tr>\n",
       "  </thead>\n",
       "  <tbody>\n",
       "    <tr>\n",
       "      <th>9</th>\n",
       "      <td>0.281934</td>\n",
       "      <td>0.123355</td>\n",
       "      <td>0.105842</td>\n",
       "      <td>0.118846</td>\n",
       "      <td>0.099523</td>\n",
       "      <td>0.102152</td>\n",
       "      <td>0.112603</td>\n",
       "      <td>0.070319</td>\n",
       "      <td>0.065513</td>\n",
       "      <td>0.118208</td>\n",
       "      <td>0.130771</td>\n",
       "      <td>0.076224</td>\n",
       "    </tr>\n",
       "  </tbody>\n",
       "</table>\n",
       "</div>"
      ],
      "text/plain": [
       "    Returns  Volatility  MC FP Equity weight  TTE FP Equity weight  \\\n",
       "9  0.281934    0.123355             0.105842              0.118846   \n",
       "\n",
       "   OR FP Equity weight  SAN FP Equity weight  AIR FP Equity weight  \\\n",
       "9             0.099523              0.102152              0.112603   \n",
       "\n",
       "   KER FP Equity weight  RMS FP Equity weight  BNP FP Equity weight  \\\n",
       "9              0.070319              0.065513              0.118208   \n",
       "\n",
       "   EL FP Equity weight  AI FP Equity weight  \n",
       "9             0.130771             0.076224  "
      ]
     },
     "execution_count": 26,
     "metadata": {},
     "output_type": "execute_result"
    }
   ],
   "source": [
    "#We keep only the last one \n",
    "portfolios2.iloc[-1:]"
   ]
  },
  {
   "cell_type": "markdown",
   "metadata": {},
   "source": [
    "#### Portfolio returns : "
   ]
  },
  {
   "cell_type": "code",
   "execution_count": 27,
   "metadata": {},
   "outputs": [],
   "source": [
    "Portfolio_ERC_returns = (StockReturns.loc['2019'] * Portfolio_ERC_weights[-1:][0]).sum(axis=1)\n",
    "Portfolio_ERC_var = np.dot(Portfolio_ERC_weights[-1:][0],np.dot(cov_matrix2017_2018, Portfolio_ERC_weights[-1:][0]))\n",
    "Portfolio_ERC_sd = np.sqrt(Portfolio_ERC_var)"
   ]
  },
  {
   "cell_type": "markdown",
   "metadata": {},
   "source": [
    "##### Strategy part : "
   ]
  },
  {
   "cell_type": "code",
   "execution_count": 28,
   "metadata": {},
   "outputs": [],
   "source": [
    "from strategy import Strategy"
   ]
  },
  {
   "cell_type": "code",
   "execution_count": 29,
   "metadata": {},
   "outputs": [],
   "source": [
    "fontsize = 9\n",
    "width_in_cm = 14\n",
    "params = {'figure.figsize': (width_in_cm / 1, width_in_cm / 1 * 9./16.),\n",
    "          'axes.labelsize': fontsize*2,\n",
    "          'axes.titlesize': fontsize*2,\n",
    "          'xtick.labelsize': fontsize*2,\n",
    "          'ytick.labelsize': fontsize*2,\n",
    "          'legend.fontsize': fontsize*2}\n",
    "plt.rcParams.update(params)"
   ]
  },
  {
   "cell_type": "code",
   "execution_count": 30,
   "metadata": {},
   "outputs": [],
   "source": [
    "ERC = Strategy('ERC', Portfolio_ERC_returns)\n",
    "MV = Strategy('MV', Portfolio_MV_returns)\n",
    "EW = Strategy('EW', Portfolio_EW_returns)"
   ]
  },
  {
   "cell_type": "code",
   "execution_count": 31,
   "metadata": {},
   "outputs": [
    {
     "data": {
      "image/png": "[encoded data removed]",
      "text/plain": [
       "<Figure size 1008x567 with 1 Axes>"
      ]
     },
     "metadata": {
      "needs_background": "light"
     },
     "output_type": "display_data"
    }
   ],
   "source": [
    "fig, ax = plt.subplots(1, 1)\n",
    "ax.plot(ERC.returns.index, ERC.pnl[1:], 'b', label=ERC.name + ' (Sharpe: %.2f, MDD: %.2f)'%\n",
    "                                                    (ERC.sharpe_ratio(), ERC.max_dd()))\n",
    "ax.plot(MV.returns.index, MV.pnl[1:], 'r', label=MV.name + ' (Sharpe: %.2f, MDD: %.2f)'%\n",
    "                                                    (MV.sharpe_ratio(), MV.max_dd()))\n",
    "ax.plot(EW.returns.index, EW.pnl[1:], 'g', label=EW.name + ' (Sharpe: %.2f, MDD: %.2f)'%\n",
    "                                                    (EW .sharpe_ratio(), EW.max_dd()))\n",
    "ax.set_xlabel('Time')\n",
    "ax.set_ylabel('PnL')\n",
    "ax.legend()\n",
    "ax.tick_params(axis='x', rotation=45)\n",
    "ax.set_title(f'PnL of the strategies')\n",
    "ax.grid(axis='x', linestyle='--')\n",
    "fig.tight_layout()\n",
    "fig.savefig(f'PnL.pdf')\n",
    "plt.show()"
   ]
  }
 ],
 "metadata": {
  "kernelspec": {
   "display_name": "Python 3",
   "language": "python",
   "name": "python3"
  },
  "language_info": {
   "codemirror_mode": {
    "name": "ipython",
    "version": 3
   },
   "file_extension": ".py",
   "mimetype": "text/x-python",
   "name": "python",
   "nbconvert_exporter": "python",
   "pygments_lexer": "ipython3",
   "version": "3.8.10"
  }
 },
 "nbformat": 4,
 "nbformat_minor": 4
}
